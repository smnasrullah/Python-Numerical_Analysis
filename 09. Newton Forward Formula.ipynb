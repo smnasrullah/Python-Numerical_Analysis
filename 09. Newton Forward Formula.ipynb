{
 "cells": [
  {
   "cell_type": "raw",
   "id": "a8d417b3-264f-485e-8a17-218fdd0461ad",
   "metadata": {},
   "source": [
    "Newton Forward Interpolation Formulae"
   ]
  },
  {
   "cell_type": "code",
   "execution_count": 9,
   "id": "50334794-6bba-4415-80a7-c124abcfe48f",
   "metadata": {},
   "outputs": [
    {
     "name": "stdout",
     "output_type": "stream",
     "text": [
      "45\t0.7071\t0.05890000000000006\t-0.005700000000000038\t-0.0007000000000000339\t\n",
      "50\t0.766\t0.053200000000000025\t-0.006400000000000072\t\n",
      "55\t0.8192\t0.04679999999999995\t\n",
      "60\t0.866\t\n",
      "\n",
      "Value at 52 is 0.786603\n"
     ]
    }
   ],
   "source": [
    "def u_cal(u,n):\n",
    "    temp = u\n",
    "    for i in range(1,n):\n",
    "        temp = temp * (u - i)\n",
    "    return temp\n",
    "\n",
    "#Calculating Factrorial of given number n\n",
    "\n",
    "def fact(n):\n",
    "    f=1\n",
    "    for i in range(2,n+1):\n",
    "        f *= i\n",
    "    return f\n",
    "\n",
    "# Number of the values given\n",
    "n = 4\n",
    "x = [45, 50, 55, 60]\n",
    "\n",
    "# with \n",
    "y = [[0 for i in range (n)]\n",
    "     for j in range(n)]\n",
    "y[0][0] = 0.7071\n",
    "y[1][0] = 0.7660\n",
    "y[2][0] = 0.8192\n",
    "y[3][0] = 0.8660\n",
    "\n",
    "#Calculating the forward difference\n",
    "#table\n",
    "for i in range(1,n):\n",
    "    for j in range(n - i):\n",
    "        y[j][i] = y[j + 1][i - 1] - y[j][i - 1]\n",
    "\n",
    "#Displaying the forward difference table\n",
    "\n",
    "for i in range (n):\n",
    "    print(x[i], end = \"\\t\");\n",
    "    for j in range (n - i):\n",
    "        print(y[i][j], end=\"\\t\");\n",
    "    print(\"\");\n",
    "\n",
    "value = 52;\n",
    "\n",
    "sum = y[0][0];\n",
    "u = (value - x[0]) / (x[1] - x[0]);\n",
    "for i in range(1,n):\n",
    "    sum = sum +(u_cal(u,i) * y[0][i])\n",
    "\n",
    "print(\"\\nValue at\",value,\"is\", round(sum,6));"
   ]
  }
 ],
 "metadata": {
  "kernelspec": {
   "display_name": "Python 3 (ipykernel)",
   "language": "python",
   "name": "python3"
  },
  "language_info": {
   "codemirror_mode": {
    "name": "ipython",
    "version": 3
   },
   "file_extension": ".py",
   "mimetype": "text/x-python",
   "name": "python",
   "nbconvert_exporter": "python",
   "pygments_lexer": "ipython3",
   "version": "3.13.3"
  }
 },
 "nbformat": 4,
 "nbformat_minor": 5
}
