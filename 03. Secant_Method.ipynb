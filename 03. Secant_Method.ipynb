{
 "cells": [
  {
   "cell_type": "raw",
   "id": "c107ffe2-899a-45af-a4ad-1e50ed36de62",
   "metadata": {},
   "source": [
    "Secant Method"
   ]
  },
  {
   "cell_type": "code",
   "execution_count": 2,
   "id": "555f348c-dd07-41d3-a758-b1e8d2311561",
   "metadata": {},
   "outputs": [
    {
     "name": "stdout",
     "output_type": "stream",
     "text": [
      "1.324707936532088\n"
     ]
    }
   ],
   "source": [
    "def f(x):\n",
    "    return x**3 - x - 1\n",
    "def Secant(x0, x1, e):\n",
    "    f1 = f(x0)\n",
    "    if f1 == 0:\n",
    "        return x0\n",
    "\n",
    "    f2 = f(x1)\n",
    "    if f2 == 0:\n",
    "        return x1\n",
    "\n",
    "    if f1 * f2 > 0.0:\n",
    "        print(\"Root not bracketed\")\n",
    "        return None\n",
    "        \n",
    "    i = 1\n",
    "    condition = True\n",
    "\n",
    "    while condition:\n",
    "        x2 = x0 - (f(x0) * (x1 - x0)) / (f(x1) - f(x0))\n",
    "\n",
    "        x0 = x1\n",
    "        x1 = x2\n",
    "        i += 1\n",
    "\n",
    "        condition = abs (f(x2)) > e\n",
    "\n",
    "    print(x2)\n",
    "\n",
    "Secant(1, 2, 0.0001)"
   ]
  }
 ],
 "metadata": {
  "kernelspec": {
   "display_name": "Python 3 (ipykernel)",
   "language": "python",
   "name": "python3"
  },
  "language_info": {
   "codemirror_mode": {
    "name": "ipython",
    "version": 3
   },
   "file_extension": ".py",
   "mimetype": "text/x-python",
   "name": "python",
   "nbconvert_exporter": "python",
   "pygments_lexer": "ipython3",
   "version": "3.13.3"
  }
 },
 "nbformat": 4,
 "nbformat_minor": 5
}
