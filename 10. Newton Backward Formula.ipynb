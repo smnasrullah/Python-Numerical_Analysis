{
 "cells": [
  {
   "cell_type": "markdown",
   "id": "751ee8a1-5900-4e06-bd6b-a0a760445dd6",
   "metadata": {},
   "source": [
    "Newton Backward Interpolation Formula"
   ]
  },
  {
   "cell_type": "code",
   "execution_count": 1,
   "id": "d9f7baa4-b8c4-4979-ae1b-f4918eb4c2f4",
   "metadata": {},
   "outputs": [
    {
     "name": "stdout",
     "output_type": "stream",
     "text": [
      "Backward Difference Table:\n",
      "    46\t\n",
      "    66\t    20\t\n",
      "    81\t    15\t    -5\t\n",
      "    93\t    12\t    -3\t     2\t\n",
      "   101\t     8\t    -4\t    -1\t    -3\t\n",
      "\n",
      "Value at 1925 is 96.83680000000001\n"
     ]
    }
   ],
   "source": [
    "def u_cal(u, n):\n",
    "    temp = 1\n",
    "    for i in range(n):\n",
    "        temp *= (u + i)\n",
    "    return temp\n",
    "\n",
    "def fact(n):\n",
    "    f = 1\n",
    "    for i in range(2, n + 1):\n",
    "        f *= i\n",
    "    return f\n",
    "\n",
    "n = 5\n",
    "x = [1891, 1901, 1911, 1921, 1931]\n",
    "\n",
    "# Initial y values (first column of the difference table)\n",
    "y = [[0.0 for _ in range(n)] for __ in range(n)]\n",
    "y[0][0] = 46\n",
    "y[1][0] = 66\n",
    "y[2][0] = 81\n",
    "y[3][0] = 93\n",
    "y[4][0] = 101\n",
    "\n",
    "# Constructing backward difference table\n",
    "for i in range(1, n):\n",
    "    for j in range(n - 1, i - 1, -1):\n",
    "        y[j][i] = y[j][i - 1] - y[j - 1][i - 1]\n",
    "\n",
    "# Displaying the backward difference table\n",
    "print(\"Backward Difference Table:\")\n",
    "for i in range(n):\n",
    "    for j in range(i + 1):\n",
    "        print(f\"{y[i][j]:>6}\", end=\"\\t\")\n",
    "    print()\n",
    "\n",
    "# Value to interpolate at\n",
    "value = 1925\n",
    "\n",
    "# Initializing u and sum\n",
    "h = x[1] - x[0]\n",
    "u = (value - x[n - 1]) / h\n",
    "sum = y[n - 1][0]\n",
    "\n",
    "# Applying Newton's Backward Interpolation Formula\n",
    "for i in range(1, n):\n",
    "    sum += (u_cal(u, i) * y[n - 1][i]) / fact(i)\n",
    "\n",
    "print(f\"\\nValue at {value} is {sum}\")"
   ]
  },
  {
   "cell_type": "code",
   "execution_count": null,
   "id": "eb81a042-e6d8-4fa4-b83c-5a4422a661cd",
   "metadata": {},
   "outputs": [],
   "source": []
  }
 ],
 "metadata": {
  "kernelspec": {
   "display_name": "Python 3 (ipykernel)",
   "language": "python",
   "name": "python3"
  },
  "language_info": {
   "codemirror_mode": {
    "name": "ipython",
    "version": 3
   },
   "file_extension": ".py",
   "mimetype": "text/x-python",
   "name": "python",
   "nbconvert_exporter": "python",
   "pygments_lexer": "ipython3",
   "version": "3.13.3"
  }
 },
 "nbformat": 4,
 "nbformat_minor": 5
}
