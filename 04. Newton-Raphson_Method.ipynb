{
 "cells": [
  {
   "cell_type": "markdown",
   "id": "856f9c53-fe94-40b3-a6e8-92fb2b090bfb",
   "metadata": {},
   "source": [
    "Newton-Raphson Method"
   ]
  },
  {
   "cell_type": "code",
   "execution_count": 5,
   "id": "69ac49ca-3de9-4dc7-92eb-6baff5a65cfb",
   "metadata": {},
   "outputs": [
    {
     "name": "stdout",
     "output_type": "stream",
     "text": [
      "1.3247181739990537\n",
      "5\n"
     ]
    }
   ],
   "source": [
    "def f(x):\n",
    "    return x**3 - x - 1\n",
    "\n",
    "def g(x):\n",
    "    return 3*x**2 - 1\n",
    "    \n",
    "def rapson(x0, e):\n",
    "\n",
    "    i = 1\n",
    "    condition = True\n",
    "\n",
    "    while condition:\n",
    "        x1 = x0 - (f(x0)/g(x0))\n",
    "\n",
    "        x0 = x1\n",
    "\n",
    "        i += 1\n",
    "\n",
    "        if g(x0) == 0:\n",
    "            break\n",
    "\n",
    "        condition = abs (f(x1)) > e\n",
    "\n",
    "    print(x1)\n",
    "\n",
    "\n",
    "rapson(1, 0.0001)"
   ]
  },
  {
   "cell_type": "code",
   "execution_count": null,
   "id": "fbbb9f8f-a805-43be-bd69-1dcaa9ed11bb",
   "metadata": {},
   "outputs": [],
   "source": []
  }
 ],
 "metadata": {
  "kernelspec": {
   "display_name": "Python 3 (ipykernel)",
   "language": "python",
   "name": "python3"
  },
  "language_info": {
   "codemirror_mode": {
    "name": "ipython",
    "version": 3
   },
   "file_extension": ".py",
   "mimetype": "text/x-python",
   "name": "python",
   "nbconvert_exporter": "python",
   "pygments_lexer": "ipython3",
   "version": "3.13.3"
  }
 },
 "nbformat": 4,
 "nbformat_minor": 5
}
