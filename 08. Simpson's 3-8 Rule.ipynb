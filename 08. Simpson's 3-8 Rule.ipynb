{
 "cells": [
  {
   "cell_type": "markdown",
   "id": "a4be7a7e-f254-4558-9717-0d505ba5f937",
   "metadata": {},
   "source": [
    "Simpson's 3/8 Rule"
   ]
  },
  {
   "cell_type": "code",
   "execution_count": 1,
   "id": "cdfbc4b2-1025-4f2a-a655-48a3c9e8f21f",
   "metadata": {},
   "outputs": [
    {
     "name": "stdout",
     "output_type": "stream",
     "text": [
      "Simpson's 3/8 Rules Answer:  0.6602678571428571\n"
     ]
    }
   ],
   "source": [
    "\n",
    "def f(x):\n",
    "    return 1/(1+x)\n",
    "\n",
    "\n",
    "def simpson(x0,xn,h):\n",
    "\n",
    "    n = int((xn - x0)/h)\n",
    "\n",
    "    a1 = 0\n",
    "    a2 = 0\n",
    "    a3 = 0\n",
    "\n",
    "    area = f(x0) + f(xn)\n",
    "\n",
    "    for i in range (1,n,3):\n",
    "        k= x0 + i *h\n",
    "        a1 = a1 + f(k)\n",
    "\n",
    "    for i in range (2,n,3):\n",
    "        k= x0 + i *h\n",
    "        a2 = a2 + f(k)\n",
    "\n",
    "    for i in range (3,n,3):\n",
    "        k= x0 + i *h\n",
    "        a3 = a3 + f(k)\n",
    "\n",
    "    area = ((3*h)/8) * (area + (3*a1) + (3*a2) + (2*a3))\n",
    "    return area\n",
    "\n",
    "print(\"Simpson's 3/8 Rules Answer: \", simpson(0,1,0.25))"
   ]
  },
  {
   "cell_type": "code",
   "execution_count": null,
   "id": "7825fa06-43ce-4d89-b1f8-bee550051eb1",
   "metadata": {},
   "outputs": [],
   "source": []
  }
 ],
 "metadata": {
  "kernelspec": {
   "display_name": "Python 3 (ipykernel)",
   "language": "python",
   "name": "python3"
  },
  "language_info": {
   "codemirror_mode": {
    "name": "ipython",
    "version": 3
   },
   "file_extension": ".py",
   "mimetype": "text/x-python",
   "name": "python",
   "nbconvert_exporter": "python",
   "pygments_lexer": "ipython3",
   "version": "3.13.3"
  }
 },
 "nbformat": 4,
 "nbformat_minor": 5
}
