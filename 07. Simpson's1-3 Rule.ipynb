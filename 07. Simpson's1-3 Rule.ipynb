{
 "cells": [
  {
   "cell_type": "markdown",
   "id": "fbc5c156-9899-4d42-804d-9203f99faba7",
   "metadata": {},
   "source": [
    "Simpson's 1/3 Rule"
   ]
  },
  {
   "cell_type": "code",
   "execution_count": 2,
   "id": "7a2ab6de-27b5-4887-bca2-9705abebf9c3",
   "metadata": {},
   "outputs": [
    {
     "name": "stdout",
     "output_type": "stream",
     "text": [
      "Simpson's 1/3 Rules Answer:  0.6932539682539682\n"
     ]
    }
   ],
   "source": [
    "\n",
    "def f(x):\n",
    "    return 1/(1+x)\n",
    "\n",
    "\n",
    "def simpson(x0,xn,h):\n",
    "\n",
    "    a1 = 0\n",
    "    a2 = 0\n",
    "\n",
    "    n = int((xn - x0)/h)\n",
    "\n",
    "    area = f(x0) + f(xn)\n",
    "\n",
    "    for i in range (1,n,2):\n",
    "        k= x0 + i *h\n",
    "        a1 = a1 + f(k)\n",
    "\n",
    "    for i in range (2,n,2):\n",
    "        k= x0 + i *h\n",
    "        a2 = a2 + f(k)\n",
    "\n",
    "    area = (h/3) * (area + (4*a1) + (2*a2))\n",
    "    return area\n",
    "\n",
    "print(\"Simpson's 1/3 Rules Answer: \", simpson(0,1,0.25))"
   ]
  },
  {
   "cell_type": "code",
   "execution_count": null,
   "id": "6198460e-c58d-4ca5-a4ee-8b5732bfc900",
   "metadata": {},
   "outputs": [],
   "source": []
  }
 ],
 "metadata": {
  "kernelspec": {
   "display_name": "Python 3 (ipykernel)",
   "language": "python",
   "name": "python3"
  },
  "language_info": {
   "codemirror_mode": {
    "name": "ipython",
    "version": 3
   },
   "file_extension": ".py",
   "mimetype": "text/x-python",
   "name": "python",
   "nbconvert_exporter": "python",
   "pygments_lexer": "ipython3",
   "version": "3.13.3"
  }
 },
 "nbformat": 4,
 "nbformat_minor": 5
}
