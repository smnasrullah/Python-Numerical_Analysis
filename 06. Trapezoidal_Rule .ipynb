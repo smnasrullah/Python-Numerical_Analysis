{
 "cells": [
  {
   "cell_type": "markdown",
   "id": "b41004f5-a153-4913-acee-811ef1d2d37a",
   "metadata": {},
   "source": [
    "Trapezoidal Rule"
   ]
  },
  {
   "cell_type": "code",
   "execution_count": 1,
   "id": "168bf37c-3eeb-46df-9904-9f379ea0e6d5",
   "metadata": {},
   "outputs": [
    {
     "name": "stdout",
     "output_type": "stream",
     "text": [
      "Trapezoidal Rules Answer:  0.6970238095238095\n"
     ]
    }
   ],
   "source": [
    "def f(x):\n",
    "    return 1/(1+x)\n",
    "\n",
    "\n",
    "def trapezoidal(x0,xn,h):\n",
    "\n",
    "    n = int((xn - x0)/h)\n",
    "\n",
    "    intre = f(x0) + f(xn)\n",
    "\n",
    "    for i in range (1,n):\n",
    "        k= x0 + i *h\n",
    "        intre = intre + 2 * f(k)\n",
    "\n",
    "    intre = (h/2) * intre\n",
    "    return intre\n",
    "\n",
    "print(\"Trapezoidal Rules Answer: \", trapezoidal(0,1,0.25))"
   ]
  },
  {
   "cell_type": "code",
   "execution_count": null,
   "id": "00a7133c-01a0-4741-947a-ce5dd8f4921b",
   "metadata": {},
   "outputs": [],
   "source": []
  }
 ],
 "metadata": {
  "kernelspec": {
   "display_name": "Python 3 (ipykernel)",
   "language": "python",
   "name": "python3"
  },
  "language_info": {
   "codemirror_mode": {
    "name": "ipython",
    "version": 3
   },
   "file_extension": ".py",
   "mimetype": "text/x-python",
   "name": "python",
   "nbconvert_exporter": "python",
   "pygments_lexer": "ipython3",
   "version": "3.13.3"
  }
 },
 "nbformat": 4,
 "nbformat_minor": 5
}
