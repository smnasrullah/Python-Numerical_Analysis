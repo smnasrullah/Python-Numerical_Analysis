{
 "cells": [
  {
   "cell_type": "raw",
   "id": "013ee67b-22b9-4cb9-86c6-35f2f1a0a1e4",
   "metadata": {},
   "source": [
    "False Position Method"
   ]
  },
  {
   "cell_type": "code",
   "execution_count": 4,
   "id": "c11b3d2c-ac28-42ad-8018-0de39218af0a",
   "metadata": {},
   "outputs": [
    {
     "data": {
      "text/plain": [
       "1.3230427492479324"
      ]
     },
     "execution_count": 4,
     "metadata": {},
     "output_type": "execute_result"
    }
   ],
   "source": [
    "from math import ceil,log\n",
    "\n",
    "def f(x):\n",
    "    return x**3 - x -1\n",
    "\n",
    "def falseposition(x1,x2,epsilon):\n",
    "    \n",
    "    f1 = f(x1)\n",
    "    if f1 == 0:\n",
    "        return x1\n",
    "\n",
    "    f2 = f(x2)\n",
    "    if f2 == 0:\n",
    "        return x2\n",
    "\n",
    "    if f1 * f2 > 0.0:\n",
    "        print(\"Root not bracketed\")\n",
    "        return None\n",
    "\n",
    "    n = ceil(log(abs(x2 - x1) / epsilon) / log(2.0))\n",
    "\n",
    "    for i in range (n):\n",
    "        x3 = (x1*f2 - x2*f1)/(f2-f1)\n",
    "        f3 = f(x3)\n",
    "\n",
    "        if f3 == 0:\n",
    "            return\n",
    "\n",
    "        if f1 * f3 <0:\n",
    "            x2 = x3\n",
    "\n",
    "        else:\n",
    "            x1 = x3\n",
    "\n",
    "    return x3\n",
    "\n",
    "    print (x3)\n",
    "\n",
    "falseposition (1,2,0.00001)"
   ]
  }
 ],
 "metadata": {
  "kernelspec": {
   "display_name": "Python 3 (ipykernel)",
   "language": "python",
   "name": "python3"
  },
  "language_info": {
   "codemirror_mode": {
    "name": "ipython",
    "version": 3
   },
   "file_extension": ".py",
   "mimetype": "text/x-python",
   "name": "python",
   "nbconvert_exporter": "python",
   "pygments_lexer": "ipython3",
   "version": "3.13.3"
  }
 },
 "nbformat": 4,
 "nbformat_minor": 5
}
