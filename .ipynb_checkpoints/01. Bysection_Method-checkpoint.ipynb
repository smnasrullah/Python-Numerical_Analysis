{
 "cells": [
  {
   "cell_type": "code",
   "execution_count": 1,
   "id": "2cba5c5b-e97d-4e01-a4a5-81829956d2fe",
   "metadata": {},
   "outputs": [
    {
     "name": "stdout",
     "output_type": "stream",
     "text": [
      "Result: 1.324737548828125\n"
     ]
    }
   ],
   "source": [
    "from math import log, ceil\n",
    "\n",
    "\n",
    "def f(x):\n",
    "    return x * x * x - x - 1\n",
    "\n",
    "\n",
    "def bisect(x1, x2, epsilon):\n",
    "    f1 = f(x1)\n",
    "    if f1 == 0:\n",
    "        return x1\n",
    "\n",
    "    f2 = f(x2)\n",
    "    if f2 == 0:\n",
    "        return x2\n",
    "\n",
    "    if f1 * f2 > 0.0:\n",
    "        print(\"Root not bracketed\")\n",
    "        return None\n",
    "\n",
    "    n = ceil(log(abs(x2 - x1) / epsilon) / log(2.0))\n",
    "\n",
    "    for i in range(n):\n",
    "        x3 = 0.5 * (x1 + x2)\n",
    "        f3 = f(x3)\n",
    "\n",
    "        if f3 == 0:\n",
    "            return x3\n",
    "\n",
    "        if f1 * f3 < 0:\n",
    "            # Root is in [x1, x3]\n",
    "            x2 = x3\n",
    "            f2 = f3\n",
    "        else:\n",
    "            # Root is in [x3, x2]\n",
    "            x1 = x3\n",
    "            f1 = f3\n",
    "\n",
    "    return (x1 + x2) / 2.0\n",
    "\n",
    "\n",
    "print(\"Result:\", bisect(1, 2, 0.0001))"
   ]
  },
  {
   "cell_type": "code",
   "execution_count": null,
   "id": "d7b736e1-aeba-441f-b4bf-771f21937b8e",
   "metadata": {},
   "outputs": [],
   "source": []
  }
 ],
 "metadata": {
  "kernelspec": {
   "display_name": "Python 3 (ipykernel)",
   "language": "python",
   "name": "python3"
  },
  "language_info": {
   "codemirror_mode": {
    "name": "ipython",
    "version": 3
   },
   "file_extension": ".py",
   "mimetype": "text/x-python",
   "name": "python",
   "nbconvert_exporter": "python",
   "pygments_lexer": "ipython3",
   "version": "3.13.3"
  }
 },
 "nbformat": 4,
 "nbformat_minor": 5
}
