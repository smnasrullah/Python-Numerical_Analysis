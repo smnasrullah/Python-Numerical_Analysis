{
 "cells": [
  {
   "cell_type": "markdown",
   "id": "cdc82248-ecc0-491d-9b20-a57283e430f7",
   "metadata": {},
   "source": [
    "Fixed Point Iteration Method"
   ]
  },
  {
   "cell_type": "code",
   "execution_count": 1,
   "id": "bc935d8b-7a94-4f62-8f3e-551235d3c438",
   "metadata": {},
   "outputs": [
    {
     "name": "stdout",
     "output_type": "stream",
     "text": [
      "1.324939363401885\n"
     ]
    }
   ],
   "source": [
    "def f(x):\n",
    "    return x ** 3 - x - 1\n",
    "def g(x):\n",
    "    return (x + 1) ** (1 / 3)\n",
    "\n",
    "def Iteration(x0, e):\n",
    "    i = 1\n",
    "    condition = True\n",
    "\n",
    "    while condition:\n",
    "        x1 = g(x0)\n",
    "        x0 = x1\n",
    "\n",
    "        condition = abs(f(x1)) > e\n",
    "        i += 1\n",
    "    print(x1)\n",
    "\n",
    "Iteration(1.5, 0.001)"
   ]
  }
 ],
 "metadata": {
  "kernelspec": {
   "display_name": "Python 3 (ipykernel)",
   "language": "python",
   "name": "python3"
  },
  "language_info": {
   "codemirror_mode": {
    "name": "ipython",
    "version": 3
   },
   "file_extension": ".py",
   "mimetype": "text/x-python",
   "name": "python",
   "nbconvert_exporter": "python",
   "pygments_lexer": "ipython3",
   "version": "3.13.3"
  }
 },
 "nbformat": 4,
 "nbformat_minor": 5
}
